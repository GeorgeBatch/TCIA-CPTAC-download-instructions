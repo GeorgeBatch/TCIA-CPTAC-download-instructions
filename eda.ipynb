{
 "cells": [
  {
   "cell_type": "markdown",
   "metadata": {},
   "source": [
    "```\n",
    "module load Python/3.10.8-GCCcore-12.2.0-bare\n",
    "python3 -m venv venv\n",
    ". venv/bin/activate\n",
    "\n",
    "pip install numpy\n",
    "pip install pandas\n",
    "pip install jupyter\n",
    "pip install ipykernel\n",
    "\n",
    "\n",
    "jupyter notebook --no-browser\n",
    "\n",
    "# select kernel - paste the link with 127 ... \n",
    "```"
   ]
  },
  {
   "cell_type": "code",
   "execution_count": null,
   "metadata": {},
   "outputs": [],
   "source": [
    "import os\n",
    "import glob"
   ]
  },
  {
   "cell_type": "code",
   "execution_count": null,
   "metadata": {},
   "outputs": [],
   "source": [
    "import numpy as np\n",
    "import pandas as pd"
   ]
  },
  {
   "cell_type": "code",
   "execution_count": null,
   "metadata": {},
   "outputs": [],
   "source": [
    "tcia_luad_lusc_cohort_df = pd.read_csv(\"tcia-luad-lusc-cohort.csv\")\n",
    "tcia_luad_lusc_cohort_df"
   ]
  },
  {
   "cell_type": "code",
   "execution_count": null,
   "metadata": {},
   "outputs": [],
   "source": [
    "tcia_slide_paths = glob.glob(\"../*/*.svs\")\n",
    "print(len(tcia_slide_paths))\n",
    "\n",
    "missing_slide_info_total = 0\n",
    "for slide_path in tcia_slide_paths:\n",
    "    slide_filename = os.path.basename(slide_path)\n",
    "    slide_id = slide_filename.split(\".\")[0]\n",
    "    slide_tumor = slide_path.split(\"/\")[1]\n",
    "    assert slide_tumor in tcia_luad_lusc_cohort_df[\"Tumor\"].values\n",
    "    \n",
    "    # check that if the slide is in the cohort, the tumor type from the file path matches the tumor type in the cohort dataframe\n",
    "    if slide_id in tcia_luad_lusc_cohort_df[\"Slide_ID\"].values:\n",
    "        # does not work\n",
    "        # assert slide_id.startswith(tcia_luad_lusc_cohort_df[tcia_luad_lusc_cohort_df[\"Slide_ID\"] == slide_id][\"Case_ID\"].values[0]), f\"Slide {slide_id} does not start with {tcia_luad_lusc_cohort_df[tcia_luad_lusc_cohort_df['Slide_ID'] == slide_id]['Case_ID'].values[0]}\"\n",
    "        assert slide_tumor == tcia_luad_lusc_cohort_df[tcia_luad_lusc_cohort_df[\"Slide_ID\"] == slide_id][\"Tumor\"].values[0]\n",
    "    else:\n",
    "        print(f\"Slide {slide_id} not in cohort\")\n",
    "        missing_slide_info_total += 1\n",
    "\n",
    "print(\"Total number of slides missing information:\", missing_slide_info_total)\n",
    "\n"
   ]
  },
  {
   "cell_type": "code",
   "execution_count": null,
   "metadata": {},
   "outputs": [],
   "source": []
  }
 ],
 "metadata": {
  "kernelspec": {
   "display_name": "Python 3 (ipykernel)",
   "language": "python",
   "name": "python3"
  },
  "language_info": {
   "codemirror_mode": {
    "name": "ipython",
    "version": 3
   },
   "file_extension": ".py",
   "mimetype": "text/x-python",
   "name": "python",
   "nbconvert_exporter": "python",
   "pygments_lexer": "ipython3",
   "version": "3.11.5"
  }
 },
 "nbformat": 4,
 "nbformat_minor": 4
}
